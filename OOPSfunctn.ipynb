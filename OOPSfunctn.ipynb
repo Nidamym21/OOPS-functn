{
 "cells": [
  {
   "cell_type": "markdown",
   "id": "c8deaa34-646a-4414-a3c7-00c1ddefe21f",
   "metadata": {},
   "source": [
    "\n",
    "# OOPS Function In Python:Object-Oriented Programming\n",
    "- In Python, OOP (Object-Oriented Programming) is a way to structure code by creating objects, which can contain data (attributes) and functions (methods).\n",
    "- It is based on the following key concepts:\n",
    "\n",
    "## Class:\n",
    "A blueprint for creating objects. \n",
    "\n",
    "It defines the attributes and methods the objects created from the class will have.\n",
    "## Object: \n",
    "An instance of a class. \n",
    "\n",
    "It holds data and can perform actions using methods defined in the class.\n",
    "## Methods:\n",
    "Functions defined inside a class that describe the behaviors of the object.\n",
    "## Attributes: \n",
    "Variables that belong to the object, storing its state.\n",
    "## Inheritance:\n",
    "A way to create a new class from an existing class, inheriting its properties and methods.\n",
    "## Encapsulation:\n",
    "Restricting access to certain details of an object to protect its state.\n",
    "## Polymorphism:\n",
    "Allowing objects of different classes to be treated as objects of a common superclass."
   ]
  },
  {
   "cell_type": "markdown",
   "id": "1881cbca-811f-4940-9678-5545ddff020f",
   "metadata": {},
   "source": [
    "### Class and Object Example"
   ]
  },
  {
   "cell_type": "code",
   "execution_count": 1,
   "id": "7e136861-8ccf-4f10-aa15-9d2994a207dc",
   "metadata": {},
   "outputs": [
    {
     "name": "stdout",
     "output_type": "stream",
     "text": [
      "Toyota\n",
      "Red\n"
     ]
    }
   ],
   "source": [
    "class Car:\n",
    "    def __init__(self, model, color):\n",
    "        self.model = model\n",
    "        self.color = color\n",
    "\n",
    "car1 = Car(\"Toyota\", \"Red\")\n",
    "print(car1.model)  # Output: Toyota\n",
    "print(car1.color)  # Output: Red\n"
   ]
  },
  {
   "cell_type": "markdown",
   "id": "e64d0c09-0c95-414b-b29d-10dae4bb798e",
   "metadata": {},
   "source": [
    "### Inheritance example"
   ]
  },
  {
   "cell_type": "code",
   "execution_count": 5,
   "id": "29ab5a3f-1f14-4c5b-a698-577157588f46",
   "metadata": {},
   "outputs": [
    {
     "name": "stdout",
     "output_type": "stream",
     "text": [
      "Car starting\n"
     ]
    }
   ],
   "source": [
    "class Vehicle:\n",
    "    def start(self):\n",
    "        return \"Vehicle starting\"\n",
    "\n",
    "class Car(Vehicle):  # Car inherits from Vehicle\n",
    "    def start(self):\n",
    "        return \"Car starting\"\n",
    "\n",
    "car = Car()\n",
    "print(car.start()) \n"
   ]
  },
  {
   "cell_type": "markdown",
   "id": "8708581c-a7da-4417-98a7-fc97235f7a2c",
   "metadata": {},
   "source": [
    "### Encapsulation Example"
   ]
  },
  {
   "cell_type": "code",
   "execution_count": 3,
   "id": "d1c999b0-aa3f-41d7-9d72-0bd7079bd0e6",
   "metadata": {},
   "outputs": [
    {
     "name": "stdout",
     "output_type": "stream",
     "text": [
      "30\n"
     ]
    }
   ],
   "source": [
    "class Person:\n",
    "    def __init__(self, name, age):\n",
    "        self.name = name\n",
    "        self._age = age  # _age is encapsulated\n",
    "\n",
    "    def get_age(self):\n",
    "        return self._age\n",
    "\n",
    "p = Person(\"John\", 30)\n",
    "print(p.get_age())  \n"
   ]
  },
  {
   "cell_type": "markdown",
   "id": "c0e78d83-bd19-4f7b-a526-53675c348743",
   "metadata": {},
   "source": [
    "### Polymorphism"
   ]
  },
  {
   "cell_type": "code",
   "execution_count": 6,
   "id": "fbc05f35-130f-4a50-9c12-fe39294dda19",
   "metadata": {},
   "outputs": [
    {
     "name": "stdout",
     "output_type": "stream",
     "text": [
      "Flying\n",
      "Swimming\n"
     ]
    }
   ],
   "source": [
    "class Bird:\n",
    "    def move(self):\n",
    "        return \"Flying\"\n",
    "\n",
    "class Fish:\n",
    "    def move(self):\n",
    "        return \"Swimming\"\n",
    "\n",
    "animals = [Bird(), Fish()]\n",
    "\n",
    "for animal in animals:\n",
    "    print(animal.move())  \n"
   ]
  },
  {
   "cell_type": "markdown",
   "id": "9ed109db-6b0c-4a09-844c-f5dbf5bc591a",
   "metadata": {},
   "source": [
    "## Other examples"
   ]
  },
  {
   "cell_type": "code",
   "execution_count": 8,
   "id": "f45283da-8290-46b7-94a5-ee3f06e8cb68",
   "metadata": {},
   "outputs": [
    {
     "name": "stdin",
     "output_type": "stream",
     "text": [
      "Enter a  first name: Nida\n",
      "Enter a  last name: Mariyam\n",
      "Enter  an id 1004\n"
     ]
    }
   ],
   "source": [
    "a= input(\"Enter a  first name:\")\n",
    "b= input(\"Enter a  last name:\")\n",
    "c= int(input(\"Enter  an id\"))\n"
   ]
  },
  {
   "cell_type": "code",
   "execution_count": 10,
   "id": "aa3edf0c-b4ff-4855-8f21-993d43a38b75",
   "metadata": {},
   "outputs": [
    {
     "name": "stdout",
     "output_type": "stream",
     "text": [
      "Person(name=nida, age=20)\n"
     ]
    }
   ],
   "source": [
    "class Person:\n",
    "    def __init__(self, name, age):\n",
    "        self.name = name\n",
    "        self.age = age\n",
    "\n",
    "    def __str__(self):\n",
    "        return f\"Person(name={self.name}, age={self.age})\"\n",
    "\n",
    "person = Person(\"nida\", 20)\n",
    "print(person)"
   ]
  },
  {
   "cell_type": "code",
   "execution_count": 9,
   "id": "72190c0e-4c99-4285-8814-e264bb6d6760",
   "metadata": {},
   "outputs": [
    {
     "name": "stdout",
     "output_type": "stream",
     "text": [
      "nam:sam  salary:200000 location:Hyderabad\n"
     ]
    }
   ],
   "source": [
    "\n",
    "class employer:\n",
    "  def details(nam,salary,location):\n",
    "    print(f\"nam:{nam}  salary:{salary} location:{location}\")\n",
    "\n",
    "j = employer\n",
    "j.details('sam', 200000, 'Hyderabad') "
   ]
  },
  {
   "cell_type": "code",
   "execution_count": null,
   "id": "44d2b650-3aed-43b5-95d5-0dace50c062e",
   "metadata": {},
   "outputs": [],
   "source": []
  },
  {
   "cell_type": "code",
   "execution_count": null,
   "id": "9efd3f99-a688-405d-a317-a418f118f7e8",
   "metadata": {},
   "outputs": [],
   "source": []
  }
 ],
 "metadata": {
  "kernelspec": {
   "display_name": "Python 3 (ipykernel)",
   "language": "python",
   "name": "python3"
  },
  "language_info": {
   "codemirror_mode": {
    "name": "ipython",
    "version": 3
   },
   "file_extension": ".py",
   "mimetype": "text/x-python",
   "name": "python",
   "nbconvert_exporter": "python",
   "pygments_lexer": "ipython3",
   "version": "3.12.4"
  }
 },
 "nbformat": 4,
 "nbformat_minor": 5
}
